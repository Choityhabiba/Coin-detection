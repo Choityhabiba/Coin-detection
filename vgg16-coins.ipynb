{
 "cells": [
  {
   "cell_type": "code",
   "execution_count": 2,
   "metadata": {
    "execution": {
     "iopub.execute_input": "2023-10-08T23:53:40.498914Z",
     "iopub.status.busy": "2023-10-08T23:53:40.497557Z",
     "iopub.status.idle": "2023-10-08T23:53:40.503737Z",
     "shell.execute_reply": "2023-10-08T23:53:40.502810Z",
     "shell.execute_reply.started": "2023-10-08T23:53:40.498871Z"
    }
   },
   "outputs": [],
   "source": [
    "import tensorflow as tf\n",
    "import os\n",
    "import numpy as np"
   ]
  },
  {
   "cell_type": "code",
   "execution_count": 3,
   "metadata": {
    "execution": {
     "iopub.execute_input": "2023-10-08T23:53:43.558385Z",
     "iopub.status.busy": "2023-10-08T23:53:43.558020Z",
     "iopub.status.idle": "2023-10-08T23:53:43.562647Z",
     "shell.execute_reply": "2023-10-08T23:53:43.561714Z",
     "shell.execute_reply.started": "2023-10-08T23:53:43.558358Z"
    }
   },
   "outputs": [],
   "source": [
    "base_dir=r\"/kaggle/input/coin-dataset-with-separated/Coin_dataset_divided\""
   ]
  },
  {
   "cell_type": "code",
   "execution_count": 5,
   "metadata": {
    "execution": {
     "iopub.execute_input": "2023-10-08T23:54:08.479119Z",
     "iopub.status.busy": "2023-10-08T23:54:08.478298Z",
     "iopub.status.idle": "2023-10-08T23:54:08.484009Z",
     "shell.execute_reply": "2023-10-08T23:54:08.483036Z",
     "shell.execute_reply.started": "2023-10-08T23:54:08.479089Z"
    }
   },
   "outputs": [],
   "source": [
    "IMAGE_SIZE=224\n",
    "BATCH_SIZE=32\n",
    "\n",
    "train_datagen=tf.keras.preprocessing.image.ImageDataGenerator(\n",
    "    \n",
    "    \n",
    "    rescale=1/255,\n",
    "    zoom_range=0.2,\n",
    "    horizontal_flip=True,\n",
    "    validation_split=0.1)\n",
    "\n",
    "validation_datagen=tf.keras.preprocessing.image.ImageDataGenerator(\n",
    "    rescale=1/255,\n",
    "    \n",
    "    validation_split=0.1\n",
    ")"
   ]
  },
  {
   "cell_type": "code",
   "execution_count": 6,
   "metadata": {
    "execution": {
     "iopub.execute_input": "2023-10-08T23:54:15.223709Z",
     "iopub.status.busy": "2023-10-08T23:54:15.223023Z",
     "iopub.status.idle": "2023-10-08T23:54:25.447147Z",
     "shell.execute_reply": "2023-10-08T23:54:25.446259Z",
     "shell.execute_reply.started": "2023-10-08T23:54:15.223671Z"
    }
   },
   "outputs": [
    {
     "name": "stdout",
     "output_type": "stream",
     "text": [
      "Found 9232 images belonging to 3 classes.\n",
      "Found 1025 images belonging to 3 classes.\n"
     ]
    }
   ],
   "source": [
    "train_genarator=train_datagen.flow_from_directory(\n",
    "    base_dir,\n",
    "    target_size=(IMAGE_SIZE,IMAGE_SIZE),\n",
    "    batch_size=BATCH_SIZE,\n",
    "    subset='training'\n",
    "    \n",
    "\n",
    ") \n",
    "\n",
    "validation_generator=validation_datagen.flow_from_directory(\n",
    "    base_dir,\n",
    "    target_size=(IMAGE_SIZE,IMAGE_SIZE),\n",
    "    batch_size=BATCH_SIZE,\n",
    "    subset='validation'\n",
    ") "
   ]
  },
  {
   "cell_type": "code",
   "execution_count": 8,
   "metadata": {
    "execution": {
     "iopub.execute_input": "2023-10-08T23:54:34.702433Z",
     "iopub.status.busy": "2023-10-08T23:54:34.701779Z",
     "iopub.status.idle": "2023-10-08T23:54:34.706731Z",
     "shell.execute_reply": "2023-10-08T23:54:34.705785Z",
     "shell.execute_reply.started": "2023-10-08T23:54:34.702401Z"
    }
   },
   "outputs": [],
   "source": [
    "from tensorflow.keras.layers import Input,Flatten,Dense\n",
    "from tensorflow.keras.models import Model\n",
    "from tensorflow.keras.applications.vgg16 import VGG16\n",
    "from tensorflow.keras.models import Sequential\n",
    "from glob import glob"
   ]
  },
  {
   "cell_type": "code",
   "execution_count": 9,
   "metadata": {
    "execution": {
     "iopub.execute_input": "2023-10-08T23:54:37.502930Z",
     "iopub.status.busy": "2023-10-08T23:54:37.502271Z",
     "iopub.status.idle": "2023-10-08T23:54:41.631974Z",
     "shell.execute_reply": "2023-10-08T23:54:41.631019Z",
     "shell.execute_reply.started": "2023-10-08T23:54:37.502897Z"
    }
   },
   "outputs": [
    {
     "name": "stdout",
     "output_type": "stream",
     "text": [
      "Downloading data from https://storage.googleapis.com/tensorflow/keras-applications/vgg16/vgg16_weights_tf_dim_ordering_tf_kernels_notop.h5\n",
      "58889256/58889256 [==============================] - 0s 0us/step\n"
     ]
    },
    {
     "data": {
      "text/plain": [
       "<KerasTensor: shape=(None, 7, 7, 512) dtype=float32 (created by layer 'block5_pool')>"
      ]
     },
     "execution_count": 9,
     "metadata": {},
     "output_type": "execute_result"
    }
   ],
   "source": [
    "IMAGE_SIZE=[224,224]\n",
    "vgg=VGG16(input_shape=IMAGE_SIZE+[3],weights='imagenet',include_top=False)\n",
    "vgg.output"
   ]
  },
  {
   "cell_type": "code",
   "execution_count": 10,
   "metadata": {
    "execution": {
     "iopub.execute_input": "2023-10-08T23:54:44.126049Z",
     "iopub.status.busy": "2023-10-08T23:54:44.125398Z",
     "iopub.status.idle": "2023-10-08T23:54:44.131108Z",
     "shell.execute_reply": "2023-10-08T23:54:44.129917Z",
     "shell.execute_reply.started": "2023-10-08T23:54:44.126016Z"
    }
   },
   "outputs": [],
   "source": [
    "for layer in vgg.layers:\n",
    "    layer.trainable=False"
   ]
  },
  {
   "cell_type": "code",
   "execution_count": 11,
   "metadata": {
    "execution": {
     "iopub.execute_input": "2023-10-08T23:54:48.902849Z",
     "iopub.status.busy": "2023-10-08T23:54:48.902492Z",
     "iopub.status.idle": "2023-10-08T23:54:48.909571Z",
     "shell.execute_reply": "2023-10-08T23:54:48.908417Z",
     "shell.execute_reply.started": "2023-10-08T23:54:48.902823Z"
    }
   },
   "outputs": [
    {
     "name": "stdout",
     "output_type": "stream",
     "text": [
      "3\n"
     ]
    }
   ],
   "source": [
    "folders=glob(r\"/kaggle/input/coin-dataset-with-separated/Coin_dataset_divided/*\")\n",
    "print(len(folders))"
   ]
  },
  {
   "cell_type": "code",
   "execution_count": 12,
   "metadata": {
    "execution": {
     "iopub.execute_input": "2023-10-08T23:54:50.903885Z",
     "iopub.status.busy": "2023-10-08T23:54:50.903243Z",
     "iopub.status.idle": "2023-10-08T23:54:50.969582Z",
     "shell.execute_reply": "2023-10-08T23:54:50.968870Z",
     "shell.execute_reply.started": "2023-10-08T23:54:50.903852Z"
    }
   },
   "outputs": [
    {
     "name": "stdout",
     "output_type": "stream",
     "text": [
      "Model: \"model\"\n",
      "_________________________________________________________________\n",
      " Layer (type)                Output Shape              Param #   \n",
      "=================================================================\n",
      " input_1 (InputLayer)        [(None, 224, 224, 3)]     0         \n",
      "                                                                 \n",
      " block1_conv1 (Conv2D)       (None, 224, 224, 64)      1792      \n",
      "                                                                 \n",
      " block1_conv2 (Conv2D)       (None, 224, 224, 64)      36928     \n",
      "                                                                 \n",
      " block1_pool (MaxPooling2D)  (None, 112, 112, 64)      0         \n",
      "                                                                 \n",
      " block2_conv1 (Conv2D)       (None, 112, 112, 128)     73856     \n",
      "                                                                 \n",
      " block2_conv2 (Conv2D)       (None, 112, 112, 128)     147584    \n",
      "                                                                 \n",
      " block2_pool (MaxPooling2D)  (None, 56, 56, 128)       0         \n",
      "                                                                 \n",
      " block3_conv1 (Conv2D)       (None, 56, 56, 256)       295168    \n",
      "                                                                 \n",
      " block3_conv2 (Conv2D)       (None, 56, 56, 256)       590080    \n",
      "                                                                 \n",
      " block3_conv3 (Conv2D)       (None, 56, 56, 256)       590080    \n",
      "                                                                 \n",
      " block3_pool (MaxPooling2D)  (None, 28, 28, 256)       0         \n",
      "                                                                 \n",
      " block4_conv1 (Conv2D)       (None, 28, 28, 512)       1180160   \n",
      "                                                                 \n",
      " block4_conv2 (Conv2D)       (None, 28, 28, 512)       2359808   \n",
      "                                                                 \n",
      " block4_conv3 (Conv2D)       (None, 28, 28, 512)       2359808   \n",
      "                                                                 \n",
      " block4_pool (MaxPooling2D)  (None, 14, 14, 512)       0         \n",
      "                                                                 \n",
      " block5_conv1 (Conv2D)       (None, 14, 14, 512)       2359808   \n",
      "                                                                 \n",
      " block5_conv2 (Conv2D)       (None, 14, 14, 512)       2359808   \n",
      "                                                                 \n",
      " block5_conv3 (Conv2D)       (None, 14, 14, 512)       2359808   \n",
      "                                                                 \n",
      " block5_pool (MaxPooling2D)  (None, 7, 7, 512)         0         \n",
      "                                                                 \n",
      " flatten (Flatten)           (None, 25088)             0         \n",
      "                                                                 \n",
      " dense (Dense)               (None, 3)                 75267     \n",
      "                                                                 \n",
      "=================================================================\n",
      "Total params: 14,789,955\n",
      "Trainable params: 75,267\n",
      "Non-trainable params: 14,714,688\n",
      "_________________________________________________________________\n"
     ]
    }
   ],
   "source": [
    "x=Flatten()(vgg.output)\n",
    "prediction=Dense(len(folders),activation='softmax')(x)\n",
    "model=Model(inputs=vgg.input,outputs=prediction)\n",
    "model.summary()"
   ]
  },
  {
   "cell_type": "code",
   "execution_count": 13,
   "metadata": {
    "execution": {
     "iopub.execute_input": "2023-10-08T23:54:55.054290Z",
     "iopub.status.busy": "2023-10-08T23:54:55.053863Z",
     "iopub.status.idle": "2023-10-08T23:54:55.072947Z",
     "shell.execute_reply": "2023-10-08T23:54:55.072056Z",
     "shell.execute_reply.started": "2023-10-08T23:54:55.054257Z"
    }
   },
   "outputs": [],
   "source": [
    "model.compile(loss='binary_crossentropy', optimizer='adam', metrics=['accuracy'])"
   ]
  },
  {
   "cell_type": "code",
   "execution_count": 14,
   "metadata": {
    "execution": {
     "iopub.execute_input": "2023-10-08T23:54:57.615163Z",
     "iopub.status.busy": "2023-10-08T23:54:57.614832Z",
     "iopub.status.idle": "2023-10-09T01:17:53.194722Z",
     "shell.execute_reply": "2023-10-09T01:17:53.193778Z",
     "shell.execute_reply.started": "2023-10-08T23:54:57.615137Z"
    }
   },
   "outputs": [
    {
     "name": "stdout",
     "output_type": "stream",
     "text": [
      "Epoch 1/20\n",
      "289/289 [==============================] - 317s 1s/step - loss: 0.0546 - accuracy: 0.9766 - val_loss: 9.9124 - val_accuracy: 0.9707\n",
      "Epoch 2/20\n",
      "289/289 [==============================] - 237s 820ms/step - loss: 0.0051 - accuracy: 0.9999 - val_loss: 25.5211 - val_accuracy: 0.9971\n",
      "Epoch 3/20\n",
      "289/289 [==============================] - 232s 802ms/step - loss: 0.0026 - accuracy: 0.9999 - val_loss: 52.4379 - val_accuracy: 0.9971\n",
      "Epoch 4/20\n",
      "289/289 [==============================] - 231s 800ms/step - loss: 0.0020 - accuracy: 0.9999 - val_loss: 24.0161 - val_accuracy: 0.9971\n",
      "Epoch 5/20\n",
      "289/289 [==============================] - 234s 808ms/step - loss: 0.0026 - accuracy: 0.9997 - val_loss: 7.6086 - val_accuracy: 0.9980\n",
      "Epoch 6/20\n",
      "289/289 [==============================] - 232s 804ms/step - loss: 0.0012 - accuracy: 0.9999 - val_loss: 20.9055 - val_accuracy: 0.9990\n",
      "Epoch 7/20\n",
      "289/289 [==============================] - 234s 809ms/step - loss: 0.0014 - accuracy: 0.9998 - val_loss: 21.5316 - val_accuracy: 0.9990\n",
      "Epoch 8/20\n",
      "289/289 [==============================] - 233s 806ms/step - loss: 0.0011 - accuracy: 0.9998 - val_loss: 0.0065 - val_accuracy: 1.0000\n",
      "Epoch 9/20\n",
      "289/289 [==============================] - 232s 802ms/step - loss: 0.0010 - accuracy: 0.9998 - val_loss: 40.8964 - val_accuracy: 0.9990\n",
      "Epoch 10/20\n",
      "289/289 [==============================] - 232s 803ms/step - loss: 0.0015 - accuracy: 0.9999 - val_loss: 29.6654 - val_accuracy: 0.9990\n",
      "Epoch 11/20\n",
      "289/289 [==============================] - 231s 801ms/step - loss: 0.0013 - accuracy: 0.9999 - val_loss: 32.5632 - val_accuracy: 0.9990\n",
      "Epoch 12/20\n",
      "289/289 [==============================] - 234s 810ms/step - loss: 0.0018 - accuracy: 0.9998 - val_loss: 28.2413 - val_accuracy: 0.9990\n",
      "Epoch 13/20\n",
      "289/289 [==============================] - 232s 803ms/step - loss: 0.0012 - accuracy: 0.9998 - val_loss: 58.1639 - val_accuracy: 0.9990\n",
      "Epoch 14/20\n",
      "289/289 [==============================] - 232s 803ms/step - loss: 0.0017 - accuracy: 0.9998 - val_loss: 33.6251 - val_accuracy: 0.9971\n",
      "Epoch 15/20\n",
      "289/289 [==============================] - 233s 807ms/step - loss: 0.0014 - accuracy: 0.9998 - val_loss: 29.9838 - val_accuracy: 0.9990\n",
      "Epoch 16/20\n",
      "289/289 [==============================] - 230s 796ms/step - loss: 0.0020 - accuracy: 0.9998 - val_loss: 73.7604 - val_accuracy: 0.9990\n",
      "Epoch 17/20\n",
      "289/289 [==============================] - 239s 828ms/step - loss: 0.0023 - accuracy: 0.9999 - val_loss: 28.4519 - val_accuracy: 0.9990\n",
      "Epoch 18/20\n",
      "289/289 [==============================] - 233s 806ms/step - loss: 0.0014 - accuracy: 0.9999 - val_loss: 50.1729 - val_accuracy: 0.9990\n",
      "Epoch 19/20\n",
      "289/289 [==============================] - 229s 793ms/step - loss: 0.0044 - accuracy: 0.9996 - val_loss: 6.1954e-04 - val_accuracy: 1.0000\n",
      "Epoch 20/20\n",
      "289/289 [==============================] - 229s 794ms/step - loss: 0.0019 - accuracy: 0.9999 - val_loss: 73.8803 - val_accuracy: 0.9990\n"
     ]
    }
   ],
   "source": [
    "epoch=20\n",
    "history=model.fit(train_genarator,\n",
    "                  steps_per_epoch=len(train_genarator),\n",
    "                  epochs=epoch,\n",
    "                  validation_data=validation_generator,\n",
    "                  validation_steps=len(validation_generator)\n",
    "                 )"
   ]
  },
  {
   "cell_type": "code",
   "execution_count": 15,
   "metadata": {
    "execution": {
     "iopub.execute_input": "2023-10-09T01:26:09.808038Z",
     "iopub.status.busy": "2023-10-09T01:26:09.807699Z",
     "iopub.status.idle": "2023-10-09T01:26:09.952055Z",
     "shell.execute_reply": "2023-10-09T01:26:09.951111Z",
     "shell.execute_reply.started": "2023-10-09T01:26:09.808012Z"
    }
   },
   "outputs": [],
   "source": [
    "# Save the trained model\n",
    "model.save('VGG16_coins.h5')"
   ]
  },
  {
   "cell_type": "code",
   "execution_count": 17,
   "metadata": {
    "execution": {
     "iopub.execute_input": "2023-10-09T01:27:08.202053Z",
     "iopub.status.busy": "2023-10-09T01:27:08.201725Z",
     "iopub.status.idle": "2023-10-09T01:27:08.464575Z",
     "shell.execute_reply": "2023-10-09T01:27:08.463688Z",
     "shell.execute_reply.started": "2023-10-09T01:27:08.202027Z"
    }
   },
   "outputs": [
    {
     "data": {
      "image/png": "[encoded data removed]",
      "text/plain": [
       "<Figure size 640x480 with 1 Axes>"
      ]
     },
     "metadata": {},
     "output_type": "display_data"
    }
   ],
   "source": [
    "import matplotlib.pyplot as plt\n",
    "plt.plot(history.history['accuracy'],color='red',label='train')\n",
    "plt.plot(history.history['val_accuracy'],color='blue',label='validation')\n",
    "plt.xlabel('No of Epoch')\n",
    "plt.ylabel('Percentage of Accuracy')\n",
    "plt.title('Accuracy Plot')\n",
    "plt.legend()\n",
    "plt.show()"
   ]
  },
  {
   "cell_type": "code",
   "execution_count": 18,
   "metadata": {
    "execution": {
     "iopub.execute_input": "2023-10-09T01:27:39.243363Z",
     "iopub.status.busy": "2023-10-09T01:27:39.243034Z",
     "iopub.status.idle": "2023-10-09T01:27:39.510820Z",
     "shell.execute_reply": "2023-10-09T01:27:39.509824Z",
     "shell.execute_reply.started": "2023-10-09T01:27:39.243335Z"
    }
   },
   "outputs": [
    {
     "data": {
      "image/png": "[encoded data removed]",
      "text/plain": [
       "<Figure size 640x480 with 1 Axes>"
      ]
     },
     "metadata": {},
     "output_type": "display_data"
    }
   ],
   "source": [
    "import matplotlib.pyplot as plt\n",
    "plt.plot(history.history['accuracy'],color='red',label='train')\n",
    "plt.plot(history.history['val_accuracy'],color='blue',label='validation')\n",
    "plt.xlabel('No of Epoch')\n",
    "plt.ylabel('Percentage of Accuracy')\n",
    "plt.title('Loss Plot')\n",
    "plt.legend()\n",
    "plt.show()"
   ]
  },
  {
   "cell_type": "code",
   "execution_count": 1,
   "metadata": {},
   "outputs": [
    {
     "name": "stderr",
     "output_type": "stream",
     "text": [
      "C:\\Users\\User\\anaconda3\\lib\\site-packages\\scipy\\__init__.py:155: UserWarning: A NumPy version >=1.18.5 and <1.25.0 is required for this version of SciPy (detected version 1.26.0\n",
      "  warnings.warn(f\"A NumPy version >={np_minversion} and <{np_maxversion}\"\n"
     ]
    },
    {
     "name": "stdout",
     "output_type": "stream",
     "text": [
      "1/1 [==============================] - 0s 396ms/step\n",
      "1/1 [==============================] - 0s 193ms/step\n"
     ]
    }
   ],
   "source": [
    "import tkinter as tk\n",
    "from tkinter import filedialog\n",
    "from PIL import Image, ImageTk\n",
    "import numpy as np\n",
    "import tensorflow as tf\n",
    "\n",
    "# Set the parameters for the data generators\n",
    "batch_size = 32\n",
    "img_height, img_width = 224, 224\n",
    "\n",
    "# Define the class names\n",
    "class_names = [\"1tk\", \"2tk\", \"5tk\"]\n",
    "\n",
    "# Load the trained model\n",
    "model = tf.keras.models.load_model(r\"C:\\Users\\User\\Desktop\\Thesis\\Work\\VGG16_coins.h5\")\n",
    "\n",
    "# Create the Tkinter GUI\n",
    "root = tk.Tk()\n",
    "root.title(\"Bangladeshi Currency Classification\")\n",
    "root.geometry(\"1000x1000\")\n",
    "root.configure(bg=\"yellow\")  # Set the window background color\n",
    "\n",
    "# Function to classify selected images\n",
    "def classify_images():\n",
    "    clear_displayed_images()  # Clear the previously displayed images and labels\n",
    "    file_paths = filedialog.askopenfilenames()\n",
    "\n",
    "    if file_paths:\n",
    "        total_currency_value = 0\n",
    "\n",
    "        for file_path in file_paths:\n",
    "            # Load and preprocess the image\n",
    "            image = Image.open(file_path)\n",
    "            image = image.resize((img_width, img_height))\n",
    "            image = image.convert(\"RGB\")\n",
    "            image_array = np.array(image) / 255.0\n",
    "            image_array = np.expand_dims(image_array, axis=0)\n",
    "\n",
    "            # Make a prediction\n",
    "            prediction = model.predict(image_array)\n",
    "            predicted_class_index = np.argmax(prediction)\n",
    "            predicted_class = class_names[predicted_class_index]\n",
    "\n",
    "            # Calculate the currency value and add it to the total\n",
    "            currency_value = int(predicted_class.replace('tk', ''))\n",
    "            total_currency_value += currency_value\n",
    "\n",
    "            # Display the image and predicted currency in a new row\n",
    "            display_image(image, predicted_class)\n",
    "\n",
    "        # Display the total currency value\n",
    "        total_label = tk.Label(root, text=f\"Total Currency is: {total_currency_value} tk\", font=(\"Arial\", 12))\n",
    "        total_label.pack(pady=10)\n",
    "    else:\n",
    "        result_label.config(text=\"No images selected.\")\n",
    "\n",
    "def clear_displayed_images():\n",
    "    for widget in image_frame.winfo_children():\n",
    "        widget.destroy()\n",
    "\n",
    "    # Clear the total currency label\n",
    "    for widget in root.winfo_children():\n",
    "        if widget.winfo_class() == \"Label\" and widget[\"text\"].startswith(\"Total Currency\"):\n",
    "            widget.destroy()\n",
    "\n",
    "def display_image(image, predicted_class):\n",
    "    image = ImageTk.PhotoImage(image)\n",
    "    image_label = tk.Label(image_frame, image=image)\n",
    "    image_label.image = image\n",
    "    image_label.pack(pady=10)\n",
    "    label = tk.Label(image_frame, text=f\"Predicted currency: {predicted_class}\", font=(\"Arial\", 12))\n",
    "    label.pack(pady=10)\n",
    "\n",
    "# Create GUI components\n",
    "select_button = tk.Button(root, text=\"Select Images\", command=classify_images, bg=\"hotpink\", fg=\"white\")\n",
    "select_button.pack(pady=10)\n",
    "\n",
    "clear_button = tk.Button(root, text=\"Clear\", command=clear_displayed_images, bg=\"red\", fg=\"white\")\n",
    "clear_button.pack(pady=10)\n",
    "\n",
    "image_frame = tk.Frame(root)\n",
    "image_frame.pack()\n",
    "\n",
    "result_label = tk.Label(root, font=(\"Arial\", 12), wraplength=1500)\n",
    "result_label.pack(pady=10)\n",
    "\n",
    "# Run the Tkinter event loop\n",
    "root.mainloop()\n"
   ]
  },
  {
   "cell_type": "code",
   "execution_count": null,
   "metadata": {},
   "outputs": [],
   "source": []
  }
 ],
 "metadata": {
  "kernelspec": {
   "display_name": "Python 3 (ipykernel)",
   "language": "python",
   "name": "python3"
  },
  "language_info": {
   "codemirror_mode": {
    "name": "ipython",
    "version": 3
   },
   "file_extension": ".py",
   "mimetype": "text/x-python",
   "name": "python",
   "nbconvert_exporter": "python",
   "pygments_lexer": "ipython3",
   "version": "3.9.13"
  }
 },
 "nbformat": 4,
 "nbformat_minor": 4
}
